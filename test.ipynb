{
 "cells": [
  {
   "cell_type": "code",
   "execution_count": 39,
   "id": "2dd00c09",
   "metadata": {},
   "outputs": [],
   "source": [
    "import getpass\n",
    "import os\n",
    "from dotenv import find_dotenv, load_dotenv\n",
    "\n",
    "load_dotenv(find_dotenv())\n",
    "\n",
    "if \"GIGACHAT_CREDENTIALS\" not in os.environ:\n",
    "    os.environ[\"GIGACHAT_CREDENTIALS\"] = getpass.getpass(\"Введите ключ авторизации GigaChat API: \")\n",
    "\n",
    "from langchain_gigachat.chat_models import GigaChat\n",
    "\n",
    "llm = GigaChat(verify_ssl_certs=False, temperature=0.0)"
   ]
  },
  {
   "cell_type": "code",
   "execution_count": 26,
   "id": "f2d260ff",
   "metadata": {},
   "outputs": [
    {
     "data": {
      "text/plain": [
       "'Федеральный закон №\\xa063-ФЗ от 06 апреля 2011 года — **«О внесении изменений в отдельные законодательные акты Российской Федерации в связи с принятием Федерального закона „Об электронной подписи”**».\\n\\nН'"
      ]
     },
     "execution_count": 26,
     "metadata": {},
     "output_type": "execute_result"
    }
   ],
   "source": [
    "from langchain.schema import HumanMessage\n",
    "\n",
    "question = \"N 63-ФЗ \\\"Об электронной подписи\\\"\"\n",
    "llm.invoke([HumanMessage(content=question)]).content[0:200]"
   ]
  },
  {
   "cell_type": "code",
   "execution_count": 9,
   "id": "ecdcd4b9",
   "metadata": {},
   "outputs": [],
   "source": [
    "list_of_files = [\n",
    "'Положение Банка России от 30 января 2025 г N 851 П Об установлении обязательных .pdf',\n",
    "'Приказ ФАПСИ от 13 июня 2001 г N 152 Об утверждении Инструкции об организации и .pdf',\n",
    "'Приказ ФСБ РФ от 27 декабря 2011 г N 795 Об утверждении Требований к форме квали.pdf',\n",
    "'Приказ ФСБ РФ от 27 декабря 2011 г N 796 Об утверждении Требований к средствам э.pdf',\n",
    "'Приказ ФСБ РФ от 9 февраля 2005 г N 66 Об утверждении Положения о разработке про.pdf',\n",
    "'Федеральный закон от 27 июля 2006 г N 152 ФЗ О персональных данных с изменениями.pdf',\n",
    "'Федеральный закон от 6 апреля 2011 г N 63 ФЗ Об электронной подписи с изменениям.pdf']"
   ]
  },
  {
   "cell_type": "code",
   "execution_count": null,
   "id": "006d4ff3",
   "metadata": {},
   "outputs": [
    {
     "name": "stdout",
     "output_type": "stream",
     "text": [
      "Total documents: 106\n"
     ]
    }
   ],
   "source": [
    "from langchain.document_loaders import PyPDFLoader\n",
    "from langchain.text_splitter import (\n",
    "    RecursiveCharacterTextSplitter,\n",
    ")\n",
    "\n",
    "loader = PyPDFLoader(\"doc_files/\" + list_of_files[0])\n",
    "documents = loader.load()\n",
    "text_splitter = RecursiveCharacterTextSplitter(\n",
    "    chunk_size=1000,\n",
    "    chunk_overlap=200,\n",
    ")\n",
    "documents = text_splitter.split_documents(documents)\n",
    "print(f\"Total documents: {len(documents)}\")"
   ]
  },
  {
   "cell_type": "code",
   "execution_count": 44,
   "id": "8429f7b4",
   "metadata": {},
   "outputs": [],
   "source": [
    "from langchain_gigachat.embeddings.gigachat import GigaChatEmbeddings\n",
    "\n",
    "from chromadb.config import Settings\n",
    "from langchain_chroma import Chroma\n",
    "\n",
    "embeddings = GigaChatEmbeddings(verify_ssl_certs=False)\n",
    "\n",
    "vectorstore = Chroma.from_documents(\n",
    "    documents,\n",
    "    embeddings,\n",
    "    client_settings=Settings(anonymized_telemetry=False),\n",
    ")\n",
    "\n",
    "retriever = vectorstore.as_retriever()"
   ]
  },
  {
   "cell_type": "code",
   "execution_count": 45,
   "id": "7a9f7bd6",
   "metadata": {},
   "outputs": [],
   "source": [
    "from langchain.chains import create_retrieval_chain\n",
    "from langchain.chains.combine_documents import create_stuff_documents_chain\n",
    "from langchain_core.prompts import ChatPromptTemplate\n",
    "\n",
    "system_prompt = (\n",
    "    \"Ты должен ответить на вопрос пользователя с использованием данных из банковских документов.\\n\"\n",
    "    \"Вот части книги контекст для ответа:\"\n",
    "    \"\\n\\n\"\n",
    "    \"{context}\"\n",
    ")\n",
    "\n",
    "prompt = ChatPromptTemplate.from_messages(\n",
    "    [\n",
    "        (\"system\", system_prompt),\n",
    "        (\"human\", \"{input}\"),\n",
    "    ]\n",
    ")\n",
    "\n",
    "\n",
    "question_answer_chain = create_stuff_documents_chain(llm, prompt)\n",
    "rag_chain = create_retrieval_chain(retriever, question_answer_chain)"
   ]
  },
  {
   "cell_type": "code",
   "execution_count": 48,
   "id": "790af1d0",
   "metadata": {},
   "outputs": [
    {
     "name": "stdout",
     "output_type": "stream",
     "text": [
      "RAG: Использование усиленной неквалифицированной электронной подписи необходимо обеспечить для следующих целей:\n",
      "\n",
      "- Подтверждение составления электронных сообщений уполномоченным на это лицом;\n",
      "- Обеспечение целостности электронных сообщений при их передаче кредитными организациями и филиалами иностранных банков.\n"
     ]
    }
   ],
   "source": [
    "q = \"Для каких целей нужно обеспечить использование усиленной неквалифицированной электронной подписи?\"\n",
    "# pure = llm([HumanMessage(content=q)]).content\n",
    "# print(f\"Pure: {pure}\")\n",
    "\n",
    "rag = rag_chain.invoke({\"input\": q})[\"answer\"]\n",
    "print(f\"RAG: {rag}\")"
   ]
  },
  {
   "cell_type": "code",
   "execution_count": null,
   "id": "06cdb274",
   "metadata": {},
   "outputs": [],
   "source": []
  }
 ],
 "metadata": {
  "kernelspec": {
   "display_name": ".venv",
   "language": "python",
   "name": "python3"
  },
  "language_info": {
   "codemirror_mode": {
    "name": "ipython",
    "version": 3
   },
   "file_extension": ".py",
   "mimetype": "text/x-python",
   "name": "python",
   "nbconvert_exporter": "python",
   "pygments_lexer": "ipython3",
   "version": "3.13.7"
  }
 },
 "nbformat": 4,
 "nbformat_minor": 5
}
